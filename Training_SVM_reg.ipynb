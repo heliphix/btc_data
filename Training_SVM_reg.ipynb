{
 "cells": [
  {
   "cell_type": "code",
   "execution_count": 1,
   "metadata": {},
   "outputs": [],
   "source": [
    "from sklearn.svm import SVR\n",
    "import pandas as pd\n",
    "import numpy as np\n",
    "from sklearn.preprocessing import Normalizer, StandardScaler, MinMaxScaler, RobustScaler\n",
    "from sklearn.pipeline import Pipeline\n",
    "from sklearn.model_selection import train_test_split\n",
    "from sklearn.metrics import mean_absolute_error, r2_score, mean_squared_error\n",
    "from sklearn.ensemble import IsolationForest\n",
    "from commons import mean_absolute_percentage_error\n",
    "from joblib import dump, load"
   ]
  },
  {
   "cell_type": "code",
   "execution_count": null,
   "metadata": {},
   "outputs": [],
   "source": []
  },
  {
   "cell_type": "code",
   "execution_count": 2,
   "metadata": {},
   "outputs": [],
   "source": [
    "data=pd.read_csv('notebooks/datasets/reg_seven.csv',sep=',')"
   ]
  },
  {
   "cell_type": "code",
   "execution_count": 3,
   "metadata": {},
   "outputs": [
    {
     "data": {
      "text/html": [
       "<div>\n",
       "<style scoped>\n",
       "    .dataframe tbody tr th:only-of-type {\n",
       "        vertical-align: middle;\n",
       "    }\n",
       "\n",
       "    .dataframe tbody tr th {\n",
       "        vertical-align: top;\n",
       "    }\n",
       "\n",
       "    .dataframe thead th {\n",
       "        text-align: right;\n",
       "    }\n",
       "</style>\n",
       "<table border=\"1\" class=\"dataframe\">\n",
       "  <thead>\n",
       "    <tr style=\"text-align: right;\">\n",
       "      <th></th>\n",
       "      <th>difficulty30rsi</th>\n",
       "      <th>difficulty90var</th>\n",
       "      <th>fee_to_reward90rsiUSD</th>\n",
       "      <th>hashrate30var</th>\n",
       "      <th>median_transaction_fee7rocUSD</th>\n",
       "      <th>mining_profitability</th>\n",
       "      <th>price30smaUSD</th>\n",
       "      <th>price3wmaUSD</th>\n",
       "      <th>price7wmaUSD</th>\n",
       "      <th>sentinusd90emaUSD</th>\n",
       "      <th>size90trx</th>\n",
       "      <th>top100cap</th>\n",
       "      <th>transactionvalueUSD</th>\n",
       "      <th>priceUSD</th>\n",
       "    </tr>\n",
       "  </thead>\n",
       "  <tbody>\n",
       "    <tr>\n",
       "      <th>2461</th>\n",
       "      <td>58.535</td>\n",
       "      <td>1.008768e+23</td>\n",
       "      <td>48.628</td>\n",
       "      <td>5.188934e+37</td>\n",
       "      <td>-51.183</td>\n",
       "      <td>0.137</td>\n",
       "      <td>7309.0</td>\n",
       "      <td>7271.0</td>\n",
       "      <td>7311.0</td>\n",
       "      <td>8952225768</td>\n",
       "      <td>-0.057</td>\n",
       "      <td>15.143</td>\n",
       "      <td>19540.0</td>\n",
       "      <td>7263.0</td>\n",
       "    </tr>\n",
       "    <tr>\n",
       "      <th>2462</th>\n",
       "      <td>58.535</td>\n",
       "      <td>1.001958e+23</td>\n",
       "      <td>48.386</td>\n",
       "      <td>5.055737e+37</td>\n",
       "      <td>-44.109</td>\n",
       "      <td>0.145</td>\n",
       "      <td>7302.0</td>\n",
       "      <td>7315.0</td>\n",
       "      <td>7323.0</td>\n",
       "      <td>8866101420</td>\n",
       "      <td>-0.057</td>\n",
       "      <td>15.156</td>\n",
       "      <td>16883.0</td>\n",
       "      <td>7361.0</td>\n",
       "    </tr>\n",
       "    <tr>\n",
       "      <th>2463</th>\n",
       "      <td>58.535</td>\n",
       "      <td>9.950605e+22</td>\n",
       "      <td>48.278</td>\n",
       "      <td>5.178554e+37</td>\n",
       "      <td>0.510</td>\n",
       "      <td>0.144</td>\n",
       "      <td>7298.0</td>\n",
       "      <td>7399.0</td>\n",
       "      <td>7356.0</td>\n",
       "      <td>8763231772</td>\n",
       "      <td>-0.058</td>\n",
       "      <td>15.163</td>\n",
       "      <td>14961.0</td>\n",
       "      <td>7469.0</td>\n",
       "    </tr>\n",
       "    <tr>\n",
       "      <th>2464</th>\n",
       "      <td>58.535</td>\n",
       "      <td>9.880747e+22</td>\n",
       "      <td>48.427</td>\n",
       "      <td>5.196839e+37</td>\n",
       "      <td>-48.673</td>\n",
       "      <td>0.152</td>\n",
       "      <td>7288.0</td>\n",
       "      <td>7411.0</td>\n",
       "      <td>7363.0</td>\n",
       "      <td>8730840664</td>\n",
       "      <td>-0.059</td>\n",
       "      <td>15.171</td>\n",
       "      <td>22475.0</td>\n",
       "      <td>7388.0</td>\n",
       "    </tr>\n",
       "    <tr>\n",
       "      <th>2465</th>\n",
       "      <td>58.535</td>\n",
       "      <td>9.810010e+22</td>\n",
       "      <td>48.495</td>\n",
       "      <td>4.726052e+37</td>\n",
       "      <td>-33.718</td>\n",
       "      <td>0.135</td>\n",
       "      <td>7286.0</td>\n",
       "      <td>7354.0</td>\n",
       "      <td>7350.0</td>\n",
       "      <td>8654833019</td>\n",
       "      <td>-0.060</td>\n",
       "      <td>15.162</td>\n",
       "      <td>17976.0</td>\n",
       "      <td>7293.0</td>\n",
       "    </tr>\n",
       "  </tbody>\n",
       "</table>\n",
       "</div>"
      ],
      "text/plain": [
       "      difficulty30rsi  difficulty90var  fee_to_reward90rsiUSD  hashrate30var  \\\n",
       "2461           58.535     1.008768e+23                 48.628   5.188934e+37   \n",
       "2462           58.535     1.001958e+23                 48.386   5.055737e+37   \n",
       "2463           58.535     9.950605e+22                 48.278   5.178554e+37   \n",
       "2464           58.535     9.880747e+22                 48.427   5.196839e+37   \n",
       "2465           58.535     9.810010e+22                 48.495   4.726052e+37   \n",
       "\n",
       "      median_transaction_fee7rocUSD  mining_profitability  price30smaUSD  \\\n",
       "2461                        -51.183                 0.137         7309.0   \n",
       "2462                        -44.109                 0.145         7302.0   \n",
       "2463                          0.510                 0.144         7298.0   \n",
       "2464                        -48.673                 0.152         7288.0   \n",
       "2465                        -33.718                 0.135         7286.0   \n",
       "\n",
       "      price3wmaUSD  price7wmaUSD  sentinusd90emaUSD  size90trx  top100cap  \\\n",
       "2461        7271.0        7311.0         8952225768     -0.057     15.143   \n",
       "2462        7315.0        7323.0         8866101420     -0.057     15.156   \n",
       "2463        7399.0        7356.0         8763231772     -0.058     15.163   \n",
       "2464        7411.0        7363.0         8730840664     -0.059     15.171   \n",
       "2465        7354.0        7350.0         8654833019     -0.060     15.162   \n",
       "\n",
       "      transactionvalueUSD  priceUSD  \n",
       "2461              19540.0    7263.0  \n",
       "2462              16883.0    7361.0  \n",
       "2463              14961.0    7469.0  \n",
       "2464              22475.0    7388.0  \n",
       "2465              17976.0    7293.0  "
      ]
     },
     "execution_count": 3,
     "metadata": {},
     "output_type": "execute_result"
    }
   ],
   "source": [
    "data.tail()"
   ]
  },
  {
   "cell_type": "code",
   "execution_count": 4,
   "metadata": {},
   "outputs": [
    {
     "data": {
      "text/plain": [
       "(2466, 14)"
      ]
     },
     "execution_count": 4,
     "metadata": {},
     "output_type": "execute_result"
    }
   ],
   "source": [
    "data.shape"
   ]
  },
  {
   "cell_type": "code",
   "execution_count": 5,
   "metadata": {},
   "outputs": [
    {
     "data": {
      "text/plain": [
       "Index(['difficulty30rsi', 'difficulty90var', 'fee_to_reward90rsiUSD',\n",
       "       'hashrate30var', 'median_transaction_fee7rocUSD',\n",
       "       'mining_profitability', 'price30smaUSD', 'price3wmaUSD', 'price7wmaUSD',\n",
       "       'sentinusd90emaUSD', 'size90trx', 'top100cap', 'transactionvalueUSD',\n",
       "       'priceUSD'],\n",
       "      dtype='object')"
      ]
     },
     "execution_count": 5,
     "metadata": {},
     "output_type": "execute_result"
    }
   ],
   "source": [
    "data.columns"
   ]
  },
  {
   "cell_type": "code",
   "execution_count": 6,
   "metadata": {},
   "outputs": [],
   "source": [
    "length=data.shape[1]-1"
   ]
  },
  {
   "cell_type": "code",
   "execution_count": 7,
   "metadata": {},
   "outputs": [],
   "source": [
    "X=data.iloc[:,:length]"
   ]
  },
  {
   "cell_type": "code",
   "execution_count": 8,
   "metadata": {},
   "outputs": [],
   "source": [
    "y=data.iloc[:,length:]"
   ]
  },
  {
   "cell_type": "code",
   "execution_count": null,
   "metadata": {},
   "outputs": [],
   "source": []
  },
  {
   "cell_type": "code",
   "execution_count": 9,
   "metadata": {},
   "outputs": [],
   "source": [
    "X_train, X_test, y_train, y_test = train_test_split(X,y,test_size=0.2, shuffle=True, random_state=7)"
   ]
  },
  {
   "cell_type": "code",
   "execution_count": 10,
   "metadata": {},
   "outputs": [],
   "source": [
    "y_train=np.ravel(y_train)"
   ]
  },
  {
   "cell_type": "code",
   "execution_count": 11,
   "metadata": {},
   "outputs": [],
   "source": [
    "y_test=np.ravel(y_test)"
   ]
  },
  {
   "cell_type": "code",
   "execution_count": 12,
   "metadata": {},
   "outputs": [],
   "source": [
    "estimators=[]"
   ]
  },
  {
   "cell_type": "code",
   "execution_count": 13,
   "metadata": {},
   "outputs": [],
   "source": [
    "estimators.append(['standard', StandardScaler()])"
   ]
  },
  {
   "cell_type": "code",
   "execution_count": 14,
   "metadata": {},
   "outputs": [],
   "source": [
    "scaling=Pipeline(estimators)"
   ]
  },
  {
   "cell_type": "code",
   "execution_count": 15,
   "metadata": {},
   "outputs": [],
   "source": [
    "X_train=scaling.fit_transform(X_train)"
   ]
  },
  {
   "cell_type": "code",
   "execution_count": 16,
   "metadata": {},
   "outputs": [],
   "source": [
    "X_test=scaling.transform(X_test)"
   ]
  },
  {
   "cell_type": "code",
   "execution_count": 28,
   "metadata": {},
   "outputs": [],
   "source": [
    "svr=SVR(kernel='rbf',C=10000,verbose=True)"
   ]
  },
  {
   "cell_type": "code",
   "execution_count": 29,
   "metadata": {},
   "outputs": [
    {
     "name": "stdout",
     "output_type": "stream",
     "text": [
      "[LibSVM]"
     ]
    },
    {
     "data": {
      "text/plain": [
       "SVR(C=10000, cache_size=200, coef0=0.0, degree=3, epsilon=0.1, gamma='scale',\n",
       "    kernel='rbf', max_iter=-1, shrinking=True, tol=0.001, verbose=True)"
      ]
     },
     "execution_count": 29,
     "metadata": {},
     "output_type": "execute_result"
    }
   ],
   "source": [
    "svr.fit(X_train,y_train)"
   ]
  },
  {
   "cell_type": "code",
   "execution_count": 30,
   "metadata": {},
   "outputs": [
    {
     "data": {
      "text/plain": [
       "0.9995155951691477"
      ]
     },
     "execution_count": 30,
     "metadata": {},
     "output_type": "execute_result"
    }
   ],
   "source": [
    "svr.score(X_train,y_train)"
   ]
  },
  {
   "cell_type": "code",
   "execution_count": 31,
   "metadata": {
    "scrolled": true
   },
   "outputs": [
    {
     "data": {
      "text/plain": [
       "0.9985772643749331"
      ]
     },
     "execution_count": 31,
     "metadata": {},
     "output_type": "execute_result"
    }
   ],
   "source": [
    "svr.score(X_test,y_test) #r^2"
   ]
  },
  {
   "cell_type": "code",
   "execution_count": 32,
   "metadata": {},
   "outputs": [],
   "source": [
    "y_pred=svr.predict(X_test)"
   ]
  },
  {
   "cell_type": "code",
   "execution_count": null,
   "metadata": {},
   "outputs": [],
   "source": []
  },
  {
   "cell_type": "code",
   "execution_count": 33,
   "metadata": {
    "scrolled": true
   },
   "outputs": [
    {
     "data": {
      "text/html": [
       "<div>\n",
       "<style scoped>\n",
       "    .dataframe tbody tr th:only-of-type {\n",
       "        vertical-align: middle;\n",
       "    }\n",
       "\n",
       "    .dataframe tbody tr th {\n",
       "        vertical-align: top;\n",
       "    }\n",
       "\n",
       "    .dataframe thead th {\n",
       "        text-align: right;\n",
       "    }\n",
       "</style>\n",
       "<table border=\"1\" class=\"dataframe\">\n",
       "  <thead>\n",
       "    <tr style=\"text-align: right;\">\n",
       "      <th></th>\n",
       "      <th>y_test</th>\n",
       "      <th>y_pred</th>\n",
       "    </tr>\n",
       "  </thead>\n",
       "  <tbody>\n",
       "    <tr>\n",
       "      <th>0</th>\n",
       "      <td>6912.000</td>\n",
       "      <td>6922.510344</td>\n",
       "    </tr>\n",
       "    <tr>\n",
       "      <th>1</th>\n",
       "      <td>6233.000</td>\n",
       "      <td>6265.023442</td>\n",
       "    </tr>\n",
       "    <tr>\n",
       "      <th>2</th>\n",
       "      <td>235.065</td>\n",
       "      <td>235.892172</td>\n",
       "    </tr>\n",
       "    <tr>\n",
       "      <th>3</th>\n",
       "      <td>609.126</td>\n",
       "      <td>614.296264</td>\n",
       "    </tr>\n",
       "    <tr>\n",
       "      <th>4</th>\n",
       "      <td>453.641</td>\n",
       "      <td>461.248239</td>\n",
       "    </tr>\n",
       "    <tr>\n",
       "      <th>5</th>\n",
       "      <td>852.382</td>\n",
       "      <td>831.615338</td>\n",
       "    </tr>\n",
       "    <tr>\n",
       "      <th>6</th>\n",
       "      <td>342.284</td>\n",
       "      <td>338.982883</td>\n",
       "    </tr>\n",
       "    <tr>\n",
       "      <th>7</th>\n",
       "      <td>344.899</td>\n",
       "      <td>346.261751</td>\n",
       "    </tr>\n",
       "    <tr>\n",
       "      <th>8</th>\n",
       "      <td>644.487</td>\n",
       "      <td>623.170023</td>\n",
       "    </tr>\n",
       "    <tr>\n",
       "      <th>9</th>\n",
       "      <td>3804.000</td>\n",
       "      <td>3780.662482</td>\n",
       "    </tr>\n",
       "    <tr>\n",
       "      <th>10</th>\n",
       "      <td>6978.000</td>\n",
       "      <td>6928.935679</td>\n",
       "    </tr>\n",
       "    <tr>\n",
       "      <th>11</th>\n",
       "      <td>96.000</td>\n",
       "      <td>105.979167</td>\n",
       "    </tr>\n",
       "    <tr>\n",
       "      <th>12</th>\n",
       "      <td>2571.000</td>\n",
       "      <td>2585.098041</td>\n",
       "    </tr>\n",
       "    <tr>\n",
       "      <th>13</th>\n",
       "      <td>9249.000</td>\n",
       "      <td>9092.485315</td>\n",
       "    </tr>\n",
       "    <tr>\n",
       "      <th>14</th>\n",
       "      <td>8206.000</td>\n",
       "      <td>8335.943304</td>\n",
       "    </tr>\n",
       "    <tr>\n",
       "      <th>15</th>\n",
       "      <td>374.287</td>\n",
       "      <td>374.757581</td>\n",
       "    </tr>\n",
       "    <tr>\n",
       "      <th>16</th>\n",
       "      <td>568.912</td>\n",
       "      <td>574.744412</td>\n",
       "    </tr>\n",
       "    <tr>\n",
       "      <th>17</th>\n",
       "      <td>5677.000</td>\n",
       "      <td>5646.459856</td>\n",
       "    </tr>\n",
       "    <tr>\n",
       "      <th>18</th>\n",
       "      <td>350.835</td>\n",
       "      <td>352.211543</td>\n",
       "    </tr>\n",
       "    <tr>\n",
       "      <th>19</th>\n",
       "      <td>5882.000</td>\n",
       "      <td>6046.127834</td>\n",
       "    </tr>\n",
       "    <tr>\n",
       "      <th>20</th>\n",
       "      <td>5265.000</td>\n",
       "      <td>5241.028625</td>\n",
       "    </tr>\n",
       "    <tr>\n",
       "      <th>21</th>\n",
       "      <td>437.341</td>\n",
       "      <td>439.790245</td>\n",
       "    </tr>\n",
       "    <tr>\n",
       "      <th>22</th>\n",
       "      <td>642.185</td>\n",
       "      <td>668.554406</td>\n",
       "    </tr>\n",
       "    <tr>\n",
       "      <th>23</th>\n",
       "      <td>3415.000</td>\n",
       "      <td>3649.330763</td>\n",
       "    </tr>\n",
       "    <tr>\n",
       "      <th>24</th>\n",
       "      <td>8830.000</td>\n",
       "      <td>8818.361184</td>\n",
       "    </tr>\n",
       "    <tr>\n",
       "      <th>25</th>\n",
       "      <td>504.405</td>\n",
       "      <td>503.586672</td>\n",
       "    </tr>\n",
       "    <tr>\n",
       "      <th>26</th>\n",
       "      <td>8797.000</td>\n",
       "      <td>8770.680648</td>\n",
       "    </tr>\n",
       "    <tr>\n",
       "      <th>27</th>\n",
       "      <td>273.617</td>\n",
       "      <td>275.101279</td>\n",
       "    </tr>\n",
       "    <tr>\n",
       "      <th>28</th>\n",
       "      <td>225.576</td>\n",
       "      <td>218.392970</td>\n",
       "    </tr>\n",
       "    <tr>\n",
       "      <th>29</th>\n",
       "      <td>447.946</td>\n",
       "      <td>441.569384</td>\n",
       "    </tr>\n",
       "    <tr>\n",
       "      <th>...</th>\n",
       "      <td>...</td>\n",
       "      <td>...</td>\n",
       "    </tr>\n",
       "    <tr>\n",
       "      <th>464</th>\n",
       "      <td>139.740</td>\n",
       "      <td>80.938473</td>\n",
       "    </tr>\n",
       "    <tr>\n",
       "      <th>465</th>\n",
       "      <td>377.566</td>\n",
       "      <td>383.389801</td>\n",
       "    </tr>\n",
       "    <tr>\n",
       "      <th>466</th>\n",
       "      <td>1269.000</td>\n",
       "      <td>1278.240620</td>\n",
       "    </tr>\n",
       "    <tr>\n",
       "      <th>467</th>\n",
       "      <td>9161.000</td>\n",
       "      <td>9202.159644</td>\n",
       "    </tr>\n",
       "    <tr>\n",
       "      <th>468</th>\n",
       "      <td>481.482</td>\n",
       "      <td>478.842870</td>\n",
       "    </tr>\n",
       "    <tr>\n",
       "      <th>469</th>\n",
       "      <td>8894.000</td>\n",
       "      <td>7453.981355</td>\n",
       "    </tr>\n",
       "    <tr>\n",
       "      <th>470</th>\n",
       "      <td>3422.000</td>\n",
       "      <td>3399.716891</td>\n",
       "    </tr>\n",
       "    <tr>\n",
       "      <th>471</th>\n",
       "      <td>241.816</td>\n",
       "      <td>239.626028</td>\n",
       "    </tr>\n",
       "    <tr>\n",
       "      <th>472</th>\n",
       "      <td>9499.000</td>\n",
       "      <td>9692.038107</td>\n",
       "    </tr>\n",
       "    <tr>\n",
       "      <th>473</th>\n",
       "      <td>892.331</td>\n",
       "      <td>894.538943</td>\n",
       "    </tr>\n",
       "    <tr>\n",
       "      <th>474</th>\n",
       "      <td>383.251</td>\n",
       "      <td>373.092657</td>\n",
       "    </tr>\n",
       "    <tr>\n",
       "      <th>475</th>\n",
       "      <td>402.084</td>\n",
       "      <td>389.927291</td>\n",
       "    </tr>\n",
       "    <tr>\n",
       "      <th>476</th>\n",
       "      <td>264.053</td>\n",
       "      <td>285.844608</td>\n",
       "    </tr>\n",
       "    <tr>\n",
       "      <th>477</th>\n",
       "      <td>6592.000</td>\n",
       "      <td>6504.306313</td>\n",
       "    </tr>\n",
       "    <tr>\n",
       "      <th>478</th>\n",
       "      <td>12645.000</td>\n",
       "      <td>11723.494612</td>\n",
       "    </tr>\n",
       "    <tr>\n",
       "      <th>479</th>\n",
       "      <td>829.446</td>\n",
       "      <td>822.707474</td>\n",
       "    </tr>\n",
       "    <tr>\n",
       "      <th>480</th>\n",
       "      <td>106.555</td>\n",
       "      <td>108.872233</td>\n",
       "    </tr>\n",
       "    <tr>\n",
       "      <th>481</th>\n",
       "      <td>952.778</td>\n",
       "      <td>954.552562</td>\n",
       "    </tr>\n",
       "    <tr>\n",
       "      <th>482</th>\n",
       "      <td>8265.000</td>\n",
       "      <td>8221.380940</td>\n",
       "    </tr>\n",
       "    <tr>\n",
       "      <th>483</th>\n",
       "      <td>238.539</td>\n",
       "      <td>240.124829</td>\n",
       "    </tr>\n",
       "    <tr>\n",
       "      <th>484</th>\n",
       "      <td>8236.000</td>\n",
       "      <td>8176.849754</td>\n",
       "    </tr>\n",
       "    <tr>\n",
       "      <th>485</th>\n",
       "      <td>114.295</td>\n",
       "      <td>185.440796</td>\n",
       "    </tr>\n",
       "    <tr>\n",
       "      <th>486</th>\n",
       "      <td>877.685</td>\n",
       "      <td>855.607450</td>\n",
       "    </tr>\n",
       "    <tr>\n",
       "      <th>487</th>\n",
       "      <td>584.376</td>\n",
       "      <td>585.502961</td>\n",
       "    </tr>\n",
       "    <tr>\n",
       "      <th>488</th>\n",
       "      <td>8204.000</td>\n",
       "      <td>8295.130229</td>\n",
       "    </tr>\n",
       "    <tr>\n",
       "      <th>489</th>\n",
       "      <td>7383.000</td>\n",
       "      <td>7212.416684</td>\n",
       "    </tr>\n",
       "    <tr>\n",
       "      <th>490</th>\n",
       "      <td>66.000</td>\n",
       "      <td>65.582870</td>\n",
       "    </tr>\n",
       "    <tr>\n",
       "      <th>491</th>\n",
       "      <td>596.048</td>\n",
       "      <td>574.354686</td>\n",
       "    </tr>\n",
       "    <tr>\n",
       "      <th>492</th>\n",
       "      <td>121.008</td>\n",
       "      <td>121.638706</td>\n",
       "    </tr>\n",
       "    <tr>\n",
       "      <th>493</th>\n",
       "      <td>605.886</td>\n",
       "      <td>604.717449</td>\n",
       "    </tr>\n",
       "  </tbody>\n",
       "</table>\n",
       "<p>494 rows × 2 columns</p>\n",
       "</div>"
      ],
      "text/plain": [
       "        y_test        y_pred\n",
       "0     6912.000   6922.510344\n",
       "1     6233.000   6265.023442\n",
       "2      235.065    235.892172\n",
       "3      609.126    614.296264\n",
       "4      453.641    461.248239\n",
       "5      852.382    831.615338\n",
       "6      342.284    338.982883\n",
       "7      344.899    346.261751\n",
       "8      644.487    623.170023\n",
       "9     3804.000   3780.662482\n",
       "10    6978.000   6928.935679\n",
       "11      96.000    105.979167\n",
       "12    2571.000   2585.098041\n",
       "13    9249.000   9092.485315\n",
       "14    8206.000   8335.943304\n",
       "15     374.287    374.757581\n",
       "16     568.912    574.744412\n",
       "17    5677.000   5646.459856\n",
       "18     350.835    352.211543\n",
       "19    5882.000   6046.127834\n",
       "20    5265.000   5241.028625\n",
       "21     437.341    439.790245\n",
       "22     642.185    668.554406\n",
       "23    3415.000   3649.330763\n",
       "24    8830.000   8818.361184\n",
       "25     504.405    503.586672\n",
       "26    8797.000   8770.680648\n",
       "27     273.617    275.101279\n",
       "28     225.576    218.392970\n",
       "29     447.946    441.569384\n",
       "..         ...           ...\n",
       "464    139.740     80.938473\n",
       "465    377.566    383.389801\n",
       "466   1269.000   1278.240620\n",
       "467   9161.000   9202.159644\n",
       "468    481.482    478.842870\n",
       "469   8894.000   7453.981355\n",
       "470   3422.000   3399.716891\n",
       "471    241.816    239.626028\n",
       "472   9499.000   9692.038107\n",
       "473    892.331    894.538943\n",
       "474    383.251    373.092657\n",
       "475    402.084    389.927291\n",
       "476    264.053    285.844608\n",
       "477   6592.000   6504.306313\n",
       "478  12645.000  11723.494612\n",
       "479    829.446    822.707474\n",
       "480    106.555    108.872233\n",
       "481    952.778    954.552562\n",
       "482   8265.000   8221.380940\n",
       "483    238.539    240.124829\n",
       "484   8236.000   8176.849754\n",
       "485    114.295    185.440796\n",
       "486    877.685    855.607450\n",
       "487    584.376    585.502961\n",
       "488   8204.000   8295.130229\n",
       "489   7383.000   7212.416684\n",
       "490     66.000     65.582870\n",
       "491    596.048    574.354686\n",
       "492    121.008    121.638706\n",
       "493    605.886    604.717449\n",
       "\n",
       "[494 rows x 2 columns]"
      ]
     },
     "execution_count": 33,
     "metadata": {},
     "output_type": "execute_result"
    }
   ],
   "source": [
    "pd.DataFrame(zip(y_test,y_pred),columns=['y_test','y_pred'])"
   ]
  },
  {
   "cell_type": "code",
   "execution_count": 34,
   "metadata": {},
   "outputs": [
    {
     "data": {
      "text/plain": [
       "58.10107452336661"
      ]
     },
     "execution_count": 34,
     "metadata": {},
     "output_type": "execute_result"
    }
   ],
   "source": [
    "mean_absolute_error(y_test,y_pred) #mae"
   ]
  },
  {
   "cell_type": "code",
   "execution_count": 35,
   "metadata": {},
   "outputs": [
    {
     "data": {
      "text/plain": [
       "20412.569449136645"
      ]
     },
     "execution_count": 35,
     "metadata": {},
     "output_type": "execute_result"
    }
   ],
   "source": [
    "mean_squared_error(y_test,y_pred) #mse"
   ]
  },
  {
   "cell_type": "code",
   "execution_count": 36,
   "metadata": {},
   "outputs": [
    {
     "data": {
      "text/plain": [
       "142.87256366824474"
      ]
     },
     "execution_count": 36,
     "metadata": {},
     "output_type": "execute_result"
    }
   ],
   "source": [
    "np.sqrt(mean_squared_error(y_test,y_pred)) #rmse"
   ]
  },
  {
   "cell_type": "code",
   "execution_count": 37,
   "metadata": {},
   "outputs": [
    {
     "data": {
      "text/plain": [
       "2.999104948099392"
      ]
     },
     "execution_count": 37,
     "metadata": {},
     "output_type": "execute_result"
    }
   ],
   "source": [
    "mean_absolute_percentage_error(y_test,y_pred) #mape"
   ]
  },
  {
   "cell_type": "code",
   "execution_count": 38,
   "metadata": {},
   "outputs": [
    {
     "data": {
      "text/plain": [
       "['notebooks/trained_models/SVM_reg_seven_new.joblib']"
      ]
     },
     "execution_count": 38,
     "metadata": {},
     "output_type": "execute_result"
    }
   ],
   "source": [
    "dump(svr,'notebooks/trained_models/SVM_reg_seven_new.joblib')"
   ]
  },
  {
   "cell_type": "code",
   "execution_count": null,
   "metadata": {},
   "outputs": [],
   "source": []
  }
 ],
 "metadata": {
  "kernelspec": {
   "display_name": "Python 3",
   "language": "python",
   "name": "python3"
  },
  "language_info": {
   "codemirror_mode": {
    "name": "ipython",
    "version": 3
   },
   "file_extension": ".py",
   "mimetype": "text/x-python",
   "name": "python",
   "nbconvert_exporter": "python",
   "pygments_lexer": "ipython3",
   "version": "3.6.9"
  }
 },
 "nbformat": 4,
 "nbformat_minor": 2
}
