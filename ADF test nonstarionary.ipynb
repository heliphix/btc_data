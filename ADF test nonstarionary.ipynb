{
 "cells": [
  {
   "cell_type": "code",
   "execution_count": 48,
   "metadata": {},
   "outputs": [],
   "source": [
    "from pandas import read_csv\n",
    "from statsmodels.tsa.stattools import adfuller"
   ]
  },
  {
   "cell_type": "code",
   "execution_count": 49,
   "metadata": {},
   "outputs": [],
   "source": [
    "series = read_csv('reg_interval3.csv', header=0)"
   ]
  },
  {
   "cell_type": "code",
   "execution_count": 50,
   "metadata": {},
   "outputs": [
    {
     "data": {
      "text/html": [
       "<div>\n",
       "<style scoped>\n",
       "    .dataframe tbody tr th:only-of-type {\n",
       "        vertical-align: middle;\n",
       "    }\n",
       "\n",
       "    .dataframe tbody tr th {\n",
       "        vertical-align: top;\n",
       "    }\n",
       "\n",
       "    .dataframe thead th {\n",
       "        text-align: right;\n",
       "    }\n",
       "</style>\n",
       "<table border=\"1\" class=\"dataframe\">\n",
       "  <thead>\n",
       "    <tr style=\"text-align: right;\">\n",
       "      <th></th>\n",
       "      <th>activeaddresses</th>\n",
       "      <th>difficulty90mom</th>\n",
       "      <th>fee_to_rewardUSD</th>\n",
       "      <th>hashrate3mom</th>\n",
       "      <th>median_transaction_feeUSD</th>\n",
       "      <th>mining_profitability</th>\n",
       "      <th>price30emaUSD</th>\n",
       "      <th>price3wmaUSD</th>\n",
       "      <th>price7wmaUSD</th>\n",
       "      <th>price90emaUSD</th>\n",
       "      <th>transactionvalueUSD</th>\n",
       "      <th>priceUSD</th>\n",
       "    </tr>\n",
       "  </thead>\n",
       "  <tbody>\n",
       "    <tr>\n",
       "      <th>0</th>\n",
       "      <td>75756</td>\n",
       "      <td>3716190.0</td>\n",
       "      <td>0.867</td>\n",
       "      <td>6.431394e+12</td>\n",
       "      <td>0.0474</td>\n",
       "      <td>7220.0</td>\n",
       "      <td>61.215</td>\n",
       "      <td>91.616</td>\n",
       "      <td>88.156</td>\n",
       "      <td>39.444</td>\n",
       "      <td>2592.0</td>\n",
       "      <td>94.715</td>\n",
       "    </tr>\n",
       "    <tr>\n",
       "      <th>1</th>\n",
       "      <td>91875</td>\n",
       "      <td>3716190.0</td>\n",
       "      <td>1.338</td>\n",
       "      <td>3.737455e+12</td>\n",
       "      <td>0.0539</td>\n",
       "      <td>7990.0</td>\n",
       "      <td>64.217</td>\n",
       "      <td>100.288</td>\n",
       "      <td>93.861</td>\n",
       "      <td>40.945</td>\n",
       "      <td>4400.0</td>\n",
       "      <td>107.749</td>\n",
       "    </tr>\n",
       "    <tr>\n",
       "      <th>2</th>\n",
       "      <td>107142</td>\n",
       "      <td>3716190.0</td>\n",
       "      <td>1.596</td>\n",
       "      <td>5.716892e+12</td>\n",
       "      <td>0.0600</td>\n",
       "      <td>8852.0</td>\n",
       "      <td>67.816</td>\n",
       "      <td>111.703</td>\n",
       "      <td>101.342</td>\n",
       "      <td>42.682</td>\n",
       "      <td>4478.0</td>\n",
       "      <td>120.003</td>\n",
       "    </tr>\n",
       "    <tr>\n",
       "      <th>3</th>\n",
       "      <td>108890</td>\n",
       "      <td>3716190.0</td>\n",
       "      <td>1.948</td>\n",
       "      <td>-1.022966e+13</td>\n",
       "      <td>0.0618</td>\n",
       "      <td>8777.0</td>\n",
       "      <td>71.413</td>\n",
       "      <td>119.740</td>\n",
       "      <td>108.257</td>\n",
       "      <td>44.460</td>\n",
       "      <td>4249.0</td>\n",
       "      <td>123.562</td>\n",
       "    </tr>\n",
       "    <tr>\n",
       "      <th>4</th>\n",
       "      <td>100034</td>\n",
       "      <td>4025422.0</td>\n",
       "      <td>1.432</td>\n",
       "      <td>-1.003014e+13</td>\n",
       "      <td>0.0643</td>\n",
       "      <td>9950.0</td>\n",
       "      <td>75.106</td>\n",
       "      <td>125.520</td>\n",
       "      <td>115.097</td>\n",
       "      <td>46.311</td>\n",
       "      <td>4348.0</td>\n",
       "      <td>128.664</td>\n",
       "    </tr>\n",
       "  </tbody>\n",
       "</table>\n",
       "</div>"
      ],
      "text/plain": [
       "   activeaddresses  difficulty90mom  fee_to_rewardUSD  hashrate3mom  \\\n",
       "0            75756        3716190.0             0.867  6.431394e+12   \n",
       "1            91875        3716190.0             1.338  3.737455e+12   \n",
       "2           107142        3716190.0             1.596  5.716892e+12   \n",
       "3           108890        3716190.0             1.948 -1.022966e+13   \n",
       "4           100034        4025422.0             1.432 -1.003014e+13   \n",
       "\n",
       "   median_transaction_feeUSD  mining_profitability  price30emaUSD  \\\n",
       "0                     0.0474                7220.0         61.215   \n",
       "1                     0.0539                7990.0         64.217   \n",
       "2                     0.0600                8852.0         67.816   \n",
       "3                     0.0618                8777.0         71.413   \n",
       "4                     0.0643                9950.0         75.106   \n",
       "\n",
       "   price3wmaUSD  price7wmaUSD  price90emaUSD  transactionvalueUSD  priceUSD  \n",
       "0        91.616        88.156         39.444               2592.0    94.715  \n",
       "1       100.288        93.861         40.945               4400.0   107.749  \n",
       "2       111.703       101.342         42.682               4478.0   120.003  \n",
       "3       119.740       108.257         44.460               4249.0   123.562  \n",
       "4       125.520       115.097         46.311               4348.0   128.664  "
      ]
     },
     "execution_count": 50,
     "metadata": {},
     "output_type": "execute_result"
    }
   ],
   "source": [
    "series.head()"
   ]
  },
  {
   "cell_type": "code",
   "execution_count": 51,
   "metadata": {},
   "outputs": [],
   "source": [
    "X=series.priceUSD.values"
   ]
  },
  {
   "cell_type": "code",
   "execution_count": 52,
   "metadata": {},
   "outputs": [],
   "source": [
    "result = adfuller(X)"
   ]
  },
  {
   "cell_type": "code",
   "execution_count": 53,
   "metadata": {},
   "outputs": [
    {
     "name": "stdout",
     "output_type": "stream",
     "text": [
      "ADF Statistic: -1.618806\n",
      "p-value: 0.473355\n",
      "Critical Values:\n",
      "\t1%: -3.433\n",
      "\t5%: -2.863\n",
      "\t10%: -2.567\n"
     ]
    }
   ],
   "source": [
    "print('ADF Statistic: %f' % result[0])\n",
    "print('p-value: %f' % result[1])\n",
    "print('Critical Values:')\n",
    "for key, value in result[4].items():\n",
    "\tprint('\\t%s: %.3f' % (key, value))"
   ]
  },
  {
   "cell_type": "code",
   "execution_count": null,
   "metadata": {},
   "outputs": [],
   "source": []
  },
  {
   "cell_type": "code",
   "execution_count": null,
   "metadata": {},
   "outputs": [],
   "source": []
  }
 ],
 "metadata": {
  "kernelspec": {
   "display_name": "Python 3",
   "language": "python",
   "name": "python3"
  },
  "language_info": {
   "codemirror_mode": {
    "name": "ipython",
    "version": 3
   },
   "file_extension": ".py",
   "mimetype": "text/x-python",
   "name": "python",
   "nbconvert_exporter": "python",
   "pygments_lexer": "ipython3",
   "version": "3.6.9"
  }
 },
 "nbformat": 4,
 "nbformat_minor": 2
}
