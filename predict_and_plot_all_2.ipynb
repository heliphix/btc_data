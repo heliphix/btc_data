{
 "cells": [
  {
   "cell_type": "code",
   "execution_count": 132,
   "metadata": {
    "scrolled": true
   },
   "outputs": [],
   "source": [
    "#modules to load saved models\n",
    "from joblib import dump, load\n",
    "from tensorflow.keras.models import load_model\n",
    "\n",
    "#data preprocessing modules\n",
    "import pandas as pd\n",
    "import numpy as np\n",
    "from sklearn.preprocessing import StandardScaler, MinMaxScaler, RobustScaler\n",
    "from sklearn.pipeline import Pipeline\n",
    "from sklearn.model_selection import train_test_split\n",
    "from keras.utils import to_categorical\n",
    "\n",
    "#regression metrics\n",
    "from sklearn.metrics import mean_absolute_error\n",
    "from sklearn.metrics import r2_score\n",
    "from sklearn.metrics import mean_squared_error\n",
    "from commons import mean_absolute_percentage_error #keep commons.py in same folder\n",
    "\n",
    "#classification metrics\n",
    "from sklearn.metrics import accuracy_score, recall_score, precision_score, roc_auc_score, f1_score\n",
    "\n",
    "#modules for plots if required\n",
    "import matplotlib.pyplot as plt\n",
    "%matplotlib inline\n",
    "from keras.utils import plot_model\n",
    "from IPython.display import SVG\n",
    "#from keras.utils import model_to_dot\n",
    "\n",
    "#get data\n",
    "#from datacollector import get_data #keep datacollector.py in same folder"
   ]
  },
  {
   "cell_type": "markdown",
   "metadata": {},
   "source": [
    "# Regression"
   ]
  },
  {
   "cell_type": "code",
   "execution_count": 121,
   "metadata": {},
   "outputs": [],
   "source": [
    "#df= pd.read_csv('datasets/BTC_Data_736_features_raw.csv',sep=',')\n",
    "#file path\n",
    "data=pd.read_csv('datasets/reg_thirty_copy.csv',sep=',')\n",
    "#data=df[data.columns]"
   ]
  },
  {
   "cell_type": "code",
   "execution_count": 68,
   "metadata": {},
   "outputs": [],
   "source": []
  },
  {
   "cell_type": "code",
   "execution_count": 121,
   "outputs": [],
   "source": [],
   "metadata": {
    "collapsed": false,
    "pycharm": {
     "name": "#%%\n"
    }
   }
  },
  {
   "cell_type": "code",
   "execution_count": 122,
   "outputs": [
    {
     "data": {
      "text/plain": "(2244, 21)"
     },
     "execution_count": 122,
     "metadata": {},
     "output_type": "execute_result"
    }
   ],
   "source": [
    "data.shape"
   ],
   "metadata": {
    "collapsed": false,
    "pycharm": {
     "name": "#%%\n"
    }
   }
  },
  {
   "cell_type": "code",
   "execution_count": 123,
   "metadata": {},
   "outputs": [
    {
     "data": {
      "text/plain": "      activeaddresses    difficulty  difficulty30mom  difficulty30rsi  \\\n2239           617851  1.294860e+13    -2.464255e+10           58.535   \n2240           548303  1.294860e+13    -2.464255e+10           58.535   \n2241           508034  1.294860e+13    -2.464255e+10           58.535   \n2242           636443  1.294860e+13    -2.464255e+10           58.535   \n2243           585047  1.294860e+13    -2.464255e+10           58.535   \n\n      difficulty90mom  hashrate90var  median_transaction_fee30trxUSD  \\\n2239     1.887740e+11   5.860000e+37                          -1.108   \n2240     1.887740e+11   5.850000e+37                          -1.149   \n2241     1.887740e+11   5.840000e+37                          -1.194   \n2242     1.887740e+11   5.850000e+37                          -1.241   \n2243     1.887740e+11   5.870000e+37                          -1.287   \n\n      median_transaction_feeUSD  mining_profitability  \\\n2239                     0.1120                 0.137   \n2240                     0.0818                 0.145   \n2241                     0.0664                 0.144   \n2242                     0.0678                 0.152   \n2243                     0.0978                 0.135   \n\n      mining_profitability90rsi  ...  price30wmaUSD  price3emaUSD  \\\n2239                     48.204  ...         7256.0        7282.0   \n2240                     48.479  ...         7259.0        7322.0   \n2241                     48.450  ...         7270.0        7396.0   \n2242                     48.694  ...         7276.0        7392.0   \n2243                     48.176  ...         7276.0        7342.0   \n\n      price3wmaUSD  price7smaUSD  price90wmaUSD  sentinusd90emaUSD  \\\n2239        7271.0        7314.0         7787.0         8952225768   \n2240        7315.0        7336.0         7772.0         8866101420   \n2241        7399.0        7364.0         7759.0         8763231772   \n2242        7411.0        7344.0         7745.0         8730840664   \n2243        7354.0        7334.0         7729.0         8654833019   \n\n      sentinusd90smaUSD  size90trx  transactionvalueUSD  priceUSD  \n2239         8130944624     -0.057              19540.0      2240  \n2240         8132484290     -0.057              16883.0      2241  \n2241         8079700892     -0.058              14961.0      2242  \n2242         8053164391     -0.059              22475.0      2243  \n2243         8034266611     -0.060              17976.0      2244  \n\n[5 rows x 21 columns]",
      "text/html": "<div>\n<style scoped>\n    .dataframe tbody tr th:only-of-type {\n        vertical-align: middle;\n    }\n\n    .dataframe tbody tr th {\n        vertical-align: top;\n    }\n\n    .dataframe thead th {\n        text-align: right;\n    }\n</style>\n<table border=\"1\" class=\"dataframe\">\n  <thead>\n    <tr style=\"text-align: right;\">\n      <th></th>\n      <th>activeaddresses</th>\n      <th>difficulty</th>\n      <th>difficulty30mom</th>\n      <th>difficulty30rsi</th>\n      <th>difficulty90mom</th>\n      <th>hashrate90var</th>\n      <th>median_transaction_fee30trxUSD</th>\n      <th>median_transaction_feeUSD</th>\n      <th>mining_profitability</th>\n      <th>mining_profitability90rsi</th>\n      <th>...</th>\n      <th>price30wmaUSD</th>\n      <th>price3emaUSD</th>\n      <th>price3wmaUSD</th>\n      <th>price7smaUSD</th>\n      <th>price90wmaUSD</th>\n      <th>sentinusd90emaUSD</th>\n      <th>sentinusd90smaUSD</th>\n      <th>size90trx</th>\n      <th>transactionvalueUSD</th>\n      <th>priceUSD</th>\n    </tr>\n  </thead>\n  <tbody>\n    <tr>\n      <th>2239</th>\n      <td>617851</td>\n      <td>1.294860e+13</td>\n      <td>-2.464255e+10</td>\n      <td>58.535</td>\n      <td>1.887740e+11</td>\n      <td>5.860000e+37</td>\n      <td>-1.108</td>\n      <td>0.1120</td>\n      <td>0.137</td>\n      <td>48.204</td>\n      <td>...</td>\n      <td>7256.0</td>\n      <td>7282.0</td>\n      <td>7271.0</td>\n      <td>7314.0</td>\n      <td>7787.0</td>\n      <td>8952225768</td>\n      <td>8130944624</td>\n      <td>-0.057</td>\n      <td>19540.0</td>\n      <td>2240</td>\n    </tr>\n    <tr>\n      <th>2240</th>\n      <td>548303</td>\n      <td>1.294860e+13</td>\n      <td>-2.464255e+10</td>\n      <td>58.535</td>\n      <td>1.887740e+11</td>\n      <td>5.850000e+37</td>\n      <td>-1.149</td>\n      <td>0.0818</td>\n      <td>0.145</td>\n      <td>48.479</td>\n      <td>...</td>\n      <td>7259.0</td>\n      <td>7322.0</td>\n      <td>7315.0</td>\n      <td>7336.0</td>\n      <td>7772.0</td>\n      <td>8866101420</td>\n      <td>8132484290</td>\n      <td>-0.057</td>\n      <td>16883.0</td>\n      <td>2241</td>\n    </tr>\n    <tr>\n      <th>2241</th>\n      <td>508034</td>\n      <td>1.294860e+13</td>\n      <td>-2.464255e+10</td>\n      <td>58.535</td>\n      <td>1.887740e+11</td>\n      <td>5.840000e+37</td>\n      <td>-1.194</td>\n      <td>0.0664</td>\n      <td>0.144</td>\n      <td>48.450</td>\n      <td>...</td>\n      <td>7270.0</td>\n      <td>7396.0</td>\n      <td>7399.0</td>\n      <td>7364.0</td>\n      <td>7759.0</td>\n      <td>8763231772</td>\n      <td>8079700892</td>\n      <td>-0.058</td>\n      <td>14961.0</td>\n      <td>2242</td>\n    </tr>\n    <tr>\n      <th>2242</th>\n      <td>636443</td>\n      <td>1.294860e+13</td>\n      <td>-2.464255e+10</td>\n      <td>58.535</td>\n      <td>1.887740e+11</td>\n      <td>5.850000e+37</td>\n      <td>-1.241</td>\n      <td>0.0678</td>\n      <td>0.152</td>\n      <td>48.694</td>\n      <td>...</td>\n      <td>7276.0</td>\n      <td>7392.0</td>\n      <td>7411.0</td>\n      <td>7344.0</td>\n      <td>7745.0</td>\n      <td>8730840664</td>\n      <td>8053164391</td>\n      <td>-0.059</td>\n      <td>22475.0</td>\n      <td>2243</td>\n    </tr>\n    <tr>\n      <th>2243</th>\n      <td>585047</td>\n      <td>1.294860e+13</td>\n      <td>-2.464255e+10</td>\n      <td>58.535</td>\n      <td>1.887740e+11</td>\n      <td>5.870000e+37</td>\n      <td>-1.287</td>\n      <td>0.0978</td>\n      <td>0.135</td>\n      <td>48.176</td>\n      <td>...</td>\n      <td>7276.0</td>\n      <td>7342.0</td>\n      <td>7354.0</td>\n      <td>7334.0</td>\n      <td>7729.0</td>\n      <td>8654833019</td>\n      <td>8034266611</td>\n      <td>-0.060</td>\n      <td>17976.0</td>\n      <td>2244</td>\n    </tr>\n  </tbody>\n</table>\n<p>5 rows × 21 columns</p>\n</div>"
     },
     "execution_count": 123,
     "metadata": {},
     "output_type": "execute_result"
    }
   ],
   "source": [
    "data.tail()"
   ]
  },
  {
   "cell_type": "markdown",
   "metadata": {},
   "source": [
    "# LSTM"
   ]
  },
  {
   "cell_type": "code",
   "execution_count": 124,
   "metadata": {},
   "outputs": [],
   "source": [
    "#create train-test splits for LSTM\n",
    "length=data.shape[1]-1\n",
    "X=data.iloc[:,:length]\n",
    "y=data.iloc[:,length:]\n",
    "X_train, X_test, y_train, y_test = train_test_split(X,y,test_size=0.2, shuffle=True, random_state=7)\n",
    "y_train=np.ravel(y_train)\n",
    "y_test=np.ravel(y_test)\n",
    "estimators=[]\n",
    "estimators.append(['robust',RobustScaler()])\n",
    "estimators.append(['mixmax',MinMaxScaler()])\n",
    "scaling=Pipeline(estimators)\n",
    "X_train=scaling.fit_transform(X_train)\n",
    "X_test=scaling.transform(X_test)\n",
    "X_train=np.reshape(X_train,(X_train.shape[0],1,X_train.shape[1]))\n",
    "X_test=np.reshape(X_test,(X_test.shape[0],1,X_test.shape[1]))\n",
    "y_train=np.reshape(y_train, (y_train.shape[0],1,1))\n",
    "y_test=np.reshape(y_test,(y_test.shape[0],1,1))"
   ]
  },
  {
   "cell_type": "code",
   "execution_count": 125,
   "metadata": {},
   "outputs": [],
   "source": [
    "#load saved model\n",
    "LSTM=load_model('trained_models/LSTM_reg_thirty.hdf5',compile=False)\n"
   ]
  },
  {
   "cell_type": "code",
   "execution_count": 126,
   "metadata": {
    "scrolled": true
   },
   "outputs": [],
   "source": [
    "#make predictions\n",
    "y_lstm=LSTM.predict(X_test)"
   ]
  },
  {
   "cell_type": "code",
   "execution_count": 127,
   "metadata": {},
   "outputs": [],
   "source": [
    "y_test=y_test.ravel() #remove [] from y_test\n",
    "y_lstm=y_lstm.ravel() #remove [] from y_pred"
   ]
  },
  {
   "cell_type": "code",
   "execution_count": 128,
   "metadata": {
    "scrolled": true
   },
   "outputs": [],
   "source": [
    "#y_test=np.log(y_test)\n",
    "#y_lstm=np.log(y_lstm)\n",
    "#show predictions in tabular format\n",
    "combine=zip(y_test,y_lstm)\n",
    "df_lstm=pd.DataFrame(combine,columns=['y_test','y_lstm'])\n",
    "df_lstm.to_csv('y_n.csv')"
   ]
  },
  {
   "cell_type": "code",
   "execution_count": 89,
   "metadata": {},
   "outputs": [],
   "source": [
    "#calculate metrics\n",
    "mae_lstm=mean_absolute_error(y_test,y_lstm)\n",
    "mape_lstm=mean_absolute_percentage_error(y_test, y_lstm)\n",
    "rmse_lstm=np.sqrt(mean_squared_error(y_test,y_lstm))\n",
    "r2_lstm=abs(r2_score(y_test, y_lstm))"
   ]
  },
  {
   "cell_type": "code",
   "execution_count": 90,
   "metadata": {
    "scrolled": true
   },
   "outputs": [
    {
     "data": {
      "text/plain": "      0            1\n0   MAE  1958.174527\n1  MAPE   146.658874\n2  RMSE  3121.643075\n3   R^2    22.099514",
      "text/html": "<div>\n<style scoped>\n    .dataframe tbody tr th:only-of-type {\n        vertical-align: middle;\n    }\n\n    .dataframe tbody tr th {\n        vertical-align: top;\n    }\n\n    .dataframe thead th {\n        text-align: right;\n    }\n</style>\n<table border=\"1\" class=\"dataframe\">\n  <thead>\n    <tr style=\"text-align: right;\">\n      <th></th>\n      <th>0</th>\n      <th>1</th>\n    </tr>\n  </thead>\n  <tbody>\n    <tr>\n      <th>0</th>\n      <td>MAE</td>\n      <td>1958.174527</td>\n    </tr>\n    <tr>\n      <th>1</th>\n      <td>MAPE</td>\n      <td>146.658874</td>\n    </tr>\n    <tr>\n      <th>2</th>\n      <td>RMSE</td>\n      <td>3121.643075</td>\n    </tr>\n    <tr>\n      <th>3</th>\n      <td>R^2</td>\n      <td>22.099514</td>\n    </tr>\n  </tbody>\n</table>\n</div>"
     },
     "execution_count": 90,
     "metadata": {},
     "output_type": "execute_result"
    }
   ],
   "source": [
    "#show metrics in tabular format\n",
    "metrics_lstm=[mae_lstm,mape_lstm,rmse_lstm,r2_lstm]\n",
    "metrics_labels=['MAE','MAPE','RMSE','R^2']\n",
    "pd.DataFrame(zip( metrics_labels,metrics_lstm))"
   ]
  },
  {
   "cell_type": "markdown",
   "metadata": {},
   "source": [
    "# SANN"
   ]
  },
  {
   "cell_type": "code",
   "execution_count": 91,
   "metadata": {},
   "outputs": [],
   "source": [
    "#create train-test splits for SANN\n",
    "length=data.shape[1]-1\n",
    "X=data.iloc[:,:length]\n",
    "y=data.iloc[:,length:]\n",
    "X_train, X_test, y_train, y_test = train_test_split(X,y,test_size=0.2, shuffle=True, random_state=7)\n",
    "y_train=np.ravel(y_train)\n",
    "y_test=np.ravel(y_test)\n",
    "estimators=[]\n",
    "estimators.append(['minmax',MinMaxScaler()])\n",
    "estimators.append(['robust',RobustScaler()])\n",
    "scaling=Pipeline(estimators)\n",
    "X_train=scaling.fit_transform(X_train)\n",
    "X_test=scaling.transform(X_test)"
   ]
  },
  {
   "cell_type": "code",
   "execution_count": 92,
   "metadata": {},
   "outputs": [],
   "source": [
    "SANN=load_model('trained_models/SANN_reg_thirty.h5',compile=False)"
   ]
  },
  {
   "cell_type": "code",
   "execution_count": 93,
   "metadata": {},
   "outputs": [],
   "source": [
    "# make a prediction with a stacked model\n",
    "def predict_stacked_model(model, inputX):\n",
    "\t# prepare input data\n",
    "\tX = [inputX for _ in range(len(model.input))]\n",
    "\t# make prediction\n",
    "\treturn model.predict(X, verbose=1)"
   ]
  },
  {
   "cell_type": "code",
   "execution_count": 94,
   "metadata": {},
   "outputs": [
    {
     "name": "stdout",
     "output_type": "stream",
     "text": [
      "449/449 [==============================] - 0s 690us/sample\b\b\b\b\b\b\b\b\b\b\b\b\b\b\b\b\b\b\b\b\b\b\b\b\b\b\b\b\b\b\b\b\b\b\b\b\b\b\b\b\b\b\b\b\b\b\b\b\b\b\b\b\b\b\b\b\b\b\b\b\b\b\b\b\b\b\b\b\b\b\b\b\b\b\b\b\b\b\b\b\b\b\b\b\b\b\b\b\b\b\b\b\n"
     ]
    }
   ],
   "source": [
    "#make predictions\n",
    "y_sann=predict_stacked_model(SANN,X_test)"
   ]
  },
  {
   "cell_type": "code",
   "execution_count": 95,
   "metadata": {},
   "outputs": [],
   "source": [
    "y_sann=y_sann.ravel() #remove [] from y_pred"
   ]
  },
  {
   "cell_type": "code",
   "execution_count": 96,
   "metadata": {},
   "outputs": [],
   "source": [
    "#show predictions in tabular format\n",
    "combine=zip(y_test,y_sann)\n",
    "SANN=pd.DataFrame(combine,columns=['y_test','y_sann'])\n",
    "SANN.to_csv('sann.csv')"
   ]
  },
  {
   "cell_type": "code",
   "execution_count": 97,
   "metadata": {},
   "outputs": [],
   "source": [
    "#calculate metrics\n",
    "mae_sann=mean_absolute_error(y_test,y_sann)\n",
    "mape_sann=mean_absolute_percentage_error(y_test, y_sann)\n",
    "rmse_sann=np.sqrt(mean_squared_error(y_test,y_sann))\n",
    "r2_sann=abs(r2_score(y_test, y_sann))"
   ]
  },
  {
   "cell_type": "code",
   "execution_count": 98,
   "metadata": {},
   "outputs": [
    {
     "data": {
      "text/plain": "      0            1\n0   MAE  1960.522745\n1  MAPE   148.459660\n2  RMSE  3137.950330\n3   R^2    22.341485",
      "text/html": "<div>\n<style scoped>\n    .dataframe tbody tr th:only-of-type {\n        vertical-align: middle;\n    }\n\n    .dataframe tbody tr th {\n        vertical-align: top;\n    }\n\n    .dataframe thead th {\n        text-align: right;\n    }\n</style>\n<table border=\"1\" class=\"dataframe\">\n  <thead>\n    <tr style=\"text-align: right;\">\n      <th></th>\n      <th>0</th>\n      <th>1</th>\n    </tr>\n  </thead>\n  <tbody>\n    <tr>\n      <th>0</th>\n      <td>MAE</td>\n      <td>1960.522745</td>\n    </tr>\n    <tr>\n      <th>1</th>\n      <td>MAPE</td>\n      <td>148.459660</td>\n    </tr>\n    <tr>\n      <th>2</th>\n      <td>RMSE</td>\n      <td>3137.950330</td>\n    </tr>\n    <tr>\n      <th>3</th>\n      <td>R^2</td>\n      <td>22.341485</td>\n    </tr>\n  </tbody>\n</table>\n</div>"
     },
     "execution_count": 98,
     "metadata": {},
     "output_type": "execute_result"
    }
   ],
   "source": [
    "#show metrics in tabular format\n",
    "metrics_sann=[mae_sann,mape_sann,rmse_sann,r2_sann]\n",
    "metrics_labels=['MAE','MAPE','RMSE','R^2']\n",
    "pd.DataFrame(zip( metrics_labels,metrics_sann))"
   ]
  },
  {
   "cell_type": "markdown",
   "metadata": {},
   "source": [
    "# SVM"
   ]
  },
  {
   "cell_type": "code",
   "execution_count": 99,
   "metadata": {},
   "outputs": [],
   "source": [
    "#create train-test splits for SVM\n",
    "length=data.shape[1]-1\n",
    "X=data.iloc[:,:length]\n",
    "y=data.iloc[:,length:]\n",
    "X_train, X_test, y_train, y_test = train_test_split(X,y,test_size=0.2, shuffle=True, random_state=7)\n",
    "y_train=np.ravel(y_train)\n",
    "y_test=np.ravel(y_test)\n",
    "estimators=[]\n",
    "estimators.append(['standard', StandardScaler()])\n",
    "scaling=Pipeline(estimators)\n",
    "X_train=scaling.fit_transform(X_train)\n",
    "X_test=scaling.transform(X_test)"
   ]
  },
  {
   "cell_type": "code",
   "execution_count": 100,
   "metadata": {},
   "outputs": [],
   "source": [
    "SVM=load('trained_models/SVM_reg_thirty.joblib')"
   ]
  },
  {
   "cell_type": "code",
   "execution_count": 101,
   "metadata": {},
   "outputs": [],
   "source": [
    "y_svm=SVM.predict(X_test)"
   ]
  },
  {
   "cell_type": "code",
   "execution_count": 102,
   "metadata": {},
   "outputs": [],
   "source": [
    "#show predictions in tabular format\n",
    "combine=zip(y_test,y_svm)\n",
    "SVM=pd.DataFrame(combine,columns=['y_test','y_svm'])\n",
    "SVM.to_csv('svm.csv')"
   ]
  },
  {
   "cell_type": "code",
   "execution_count": 103,
   "metadata": {},
   "outputs": [],
   "source": [
    "#calculate metrics\n",
    "mae_svm=mean_absolute_error(y_test,y_svm)\n",
    "mape_svm=mean_absolute_percentage_error(y_test, y_svm)\n",
    "rmse_svm=np.sqrt(mean_squared_error(y_test,y_svm))\n",
    "r2_svm=abs(r2_score(y_test, y_svm))"
   ]
  },
  {
   "cell_type": "code",
   "execution_count": 104,
   "metadata": {},
   "outputs": [
    {
     "data": {
      "text/plain": "      0            1\n0   MAE  1949.628250\n1  MAPE   144.727721\n2  RMSE  3117.520042\n3   R^2    22.038535",
      "text/html": "<div>\n<style scoped>\n    .dataframe tbody tr th:only-of-type {\n        vertical-align: middle;\n    }\n\n    .dataframe tbody tr th {\n        vertical-align: top;\n    }\n\n    .dataframe thead th {\n        text-align: right;\n    }\n</style>\n<table border=\"1\" class=\"dataframe\">\n  <thead>\n    <tr style=\"text-align: right;\">\n      <th></th>\n      <th>0</th>\n      <th>1</th>\n    </tr>\n  </thead>\n  <tbody>\n    <tr>\n      <th>0</th>\n      <td>MAE</td>\n      <td>1949.628250</td>\n    </tr>\n    <tr>\n      <th>1</th>\n      <td>MAPE</td>\n      <td>144.727721</td>\n    </tr>\n    <tr>\n      <th>2</th>\n      <td>RMSE</td>\n      <td>3117.520042</td>\n    </tr>\n    <tr>\n      <th>3</th>\n      <td>R^2</td>\n      <td>22.038535</td>\n    </tr>\n  </tbody>\n</table>\n</div>"
     },
     "execution_count": 104,
     "metadata": {},
     "output_type": "execute_result"
    }
   ],
   "source": [
    "#show metrics in tabular format\n",
    "metrics_svm=[mae_svm,mape_svm,rmse_svm,r2_svm]\n",
    "metrics_labels=['MAE','MAPE','RMSE','R^2']\n",
    "pd.DataFrame(zip( metrics_labels,metrics_svm))"
   ]
  },
  {
   "cell_type": "markdown",
   "metadata": {},
   "source": [
    "# ANN"
   ]
  },
  {
   "cell_type": "code",
   "execution_count": 105,
   "metadata": {},
   "outputs": [],
   "source": [
    "#create train-test splits for ANN\n",
    "length=data.shape[1]-1\n",
    "X=data.iloc[:,:length]\n",
    "y=data.iloc[:,length:]\n",
    "X_train, X_test, y_train, y_test = train_test_split(X,y,test_size=0.2, shuffle=True, random_state=7)\n",
    "y_train=np.ravel(y_train)\n",
    "y_test=np.ravel(y_test)\n",
    "estimators=[]\n",
    "estimators.append(['minmax',MinMaxScaler()])\n",
    "estimators.append(['robust',RobustScaler()])\n",
    "scaling=Pipeline(estimators)\n",
    "X_train=scaling.fit_transform(X_train)\n",
    "X_test=scaling.transform(X_test)"
   ]
  },
  {
   "cell_type": "code",
   "execution_count": 106,
   "metadata": {},
   "outputs": [],
   "source": [
    "ANN=load_model('trained_models/ANN_reg_thirty.h5',compile=False)"
   ]
  },
  {
   "cell_type": "code",
   "execution_count": 107,
   "metadata": {},
   "outputs": [],
   "source": [
    "y_ann=ANN.predict(X_test)"
   ]
  },
  {
   "cell_type": "code",
   "execution_count": 108,
   "metadata": {},
   "outputs": [],
   "source": [
    "y_ann=y_ann.ravel() #remove [] from y_pred"
   ]
  },
  {
   "cell_type": "code",
   "execution_count": 109,
   "metadata": {},
   "outputs": [],
   "source": [
    "#show predictions in tabular format\n",
    "combine=zip(y_test,y_ann)\n",
    "ANN=pd.DataFrame(combine,columns=['y_test','y_ann'])\n",
    "ANN.to_csv('ann.csv')"
   ]
  },
  {
   "cell_type": "code",
   "execution_count": 110,
   "metadata": {},
   "outputs": [],
   "source": [
    "#calculate metrics\n",
    "mae_ann=mean_absolute_error(y_test,y_ann)\n",
    "mape_ann=mean_absolute_percentage_error(y_test, y_ann)\n",
    "rmse_ann=np.sqrt(mean_squared_error(y_test,y_ann))\n",
    "r2_ann=abs(r2_score(y_test, y_ann))"
   ]
  },
  {
   "cell_type": "code",
   "execution_count": 111,
   "metadata": {},
   "outputs": [
    {
     "data": {
      "text/plain": "      0            1\n0   MAE  1942.044453\n1  MAPE   144.634254\n2  RMSE  3111.256432\n3   R^2    21.946052",
      "text/html": "<div>\n<style scoped>\n    .dataframe tbody tr th:only-of-type {\n        vertical-align: middle;\n    }\n\n    .dataframe tbody tr th {\n        vertical-align: top;\n    }\n\n    .dataframe thead th {\n        text-align: right;\n    }\n</style>\n<table border=\"1\" class=\"dataframe\">\n  <thead>\n    <tr style=\"text-align: right;\">\n      <th></th>\n      <th>0</th>\n      <th>1</th>\n    </tr>\n  </thead>\n  <tbody>\n    <tr>\n      <th>0</th>\n      <td>MAE</td>\n      <td>1942.044453</td>\n    </tr>\n    <tr>\n      <th>1</th>\n      <td>MAPE</td>\n      <td>144.634254</td>\n    </tr>\n    <tr>\n      <th>2</th>\n      <td>RMSE</td>\n      <td>3111.256432</td>\n    </tr>\n    <tr>\n      <th>3</th>\n      <td>R^2</td>\n      <td>21.946052</td>\n    </tr>\n  </tbody>\n</table>\n</div>"
     },
     "execution_count": 111,
     "metadata": {},
     "output_type": "execute_result"
    }
   ],
   "source": [
    "#show metrics in tabular format\n",
    "metrics_ann=[mae_ann,mape_ann,rmse_ann,r2_ann]\n",
    "metrics_labels=['MAE','MAPE','RMSE','R^2']\n",
    "pd.DataFrame(zip( metrics_labels,metrics_ann))"
   ]
  },
  {
   "cell_type": "markdown",
   "metadata": {},
   "source": [
    "# Plot all"
   ]
  },
  {
   "cell_type": "code",
   "execution_count": 143,
   "metadata": {},
   "outputs": [
    {
     "data": {
      "text/plain": "   n   y_test        lstm         ann        sann         svm\n0  1  102.694  105.043083  104.006851  115.105286  107.193980\n1  2  109.595  112.324692  110.803230  121.607147  104.181577\n2  3  110.540  116.102554  122.154060  134.848953   30.957313\n3  4  112.241  119.243851   98.058731  113.688538  108.950343\n4  5  115.280  118.725494   96.362152  111.320023  116.986814",
      "text/html": "<div>\n<style scoped>\n    .dataframe tbody tr th:only-of-type {\n        vertical-align: middle;\n    }\n\n    .dataframe tbody tr th {\n        vertical-align: top;\n    }\n\n    .dataframe thead th {\n        text-align: right;\n    }\n</style>\n<table border=\"1\" class=\"dataframe\">\n  <thead>\n    <tr style=\"text-align: right;\">\n      <th></th>\n      <th>n</th>\n      <th>y_test</th>\n      <th>lstm</th>\n      <th>ann</th>\n      <th>sann</th>\n      <th>svm</th>\n    </tr>\n  </thead>\n  <tbody>\n    <tr>\n      <th>0</th>\n      <td>1</td>\n      <td>102.694</td>\n      <td>105.043083</td>\n      <td>104.006851</td>\n      <td>115.105286</td>\n      <td>107.193980</td>\n    </tr>\n    <tr>\n      <th>1</th>\n      <td>2</td>\n      <td>109.595</td>\n      <td>112.324692</td>\n      <td>110.803230</td>\n      <td>121.607147</td>\n      <td>104.181577</td>\n    </tr>\n    <tr>\n      <th>2</th>\n      <td>3</td>\n      <td>110.540</td>\n      <td>116.102554</td>\n      <td>122.154060</td>\n      <td>134.848953</td>\n      <td>30.957313</td>\n    </tr>\n    <tr>\n      <th>3</th>\n      <td>4</td>\n      <td>112.241</td>\n      <td>119.243851</td>\n      <td>98.058731</td>\n      <td>113.688538</td>\n      <td>108.950343</td>\n    </tr>\n    <tr>\n      <th>4</th>\n      <td>5</td>\n      <td>115.280</td>\n      <td>118.725494</td>\n      <td>96.362152</td>\n      <td>111.320023</td>\n      <td>116.986814</td>\n    </tr>\n  </tbody>\n</table>\n</div>"
     },
     "execution_count": 143,
     "metadata": {},
     "output_type": "execute_result"
    }
   ],
   "source": [
    "df=pd.read_csv('y_test.csv',header=0)\n",
    "df.head()"
   ]
  },
  {
   "cell_type": "code",
   "execution_count": 144,
   "outputs": [],
   "source": [
    "x=df['n']\n",
    "#x=np.arange('2020-01-01', '2020-05-10', dtype='datetime64[D]')\n",
    "y_test=df['y_test']\n",
    "y_lstm=df['lstm']\n",
    "y_ann=df['ann']\n",
    "y_sann=df['sann']\n",
    "y_svm=df['svm']"
   ],
   "metadata": {
    "collapsed": false,
    "pycharm": {
     "name": "#%%\n"
    }
   }
  },
  {
   "cell_type": "code",
   "execution_count": 151,
   "metadata": {},
   "outputs": [
    {
     "data": {
      "text/plain": "<Figure size 936x576 with 1 Axes>",
      "image/png": "[encoded data removed]"
     },
     "metadata": {
      "needs_background": "light"
     },
     "output_type": "display_data"
    }
   ],
   "source": [
    "import matplotlib.dates\n",
    "from matplotlib.dates import DateFormatter\n",
    "plt.rcParams.update({'font.size': 14})\n",
    "fig = plt.figure(figsize=(13,8))\n",
    "ax = fig.add_subplot(111)\n",
    "\n",
    "# Set major x ticks on Mondays.\n",
    "#ax.xaxis.set_major_locator(matplotlib.dates.WeekdayLocator(byweekday=matplotlib.dates.MO))\n",
    "\n",
    "labels=['Actual BTC price','LSTM Predicted Price']\n",
    "#plt.xticks(np.arange('2020-01-01', '2020-05-10', 31, dtype='datetime64[D]'))\n",
    "plt.legend(labels)\n",
    "ax.plot(x, y_test,'kx-')\n",
    "ax.plot(x,y_lstm,'r--')\n",
    "ax.plot(x,y_sann,'o--')\n",
    "ax.plot(x,y_svm,'g.-')\n",
    "ax.plot(x,y_ann,'+--')\n",
    "#ax.xaxis.set_major_formatter(DateFormatter(\"%Y-%m\"))\n",
    "\n",
    "ax.grid(False)\n",
    "\n",
    "labels=['Actual BTC','LSTM 30-days','SANN 30-days','SVM 30-days','ANN 30-days']\n",
    "plt.legend(labels)\n",
    "plt.xlabel('Sampled Days')\n",
    "plt.ylabel('BTC price in USD')\n",
    "#plt.title('Prediction on Unseen Data')\n",
    "plt.savefig('thirty.png',dpi=300,bbox_inches='tight' )\n",
    "plt.show()"
   ]
  },
  {
   "cell_type": "code",
   "execution_count": 34,
   "metadata": {},
   "outputs": [],
   "source": []
  },
  {
   "cell_type": "code",
   "execution_count": 34,
   "metadata": {},
   "outputs": [],
   "source": []
  }
 ],
 "metadata": {
  "kernelspec": {
   "display_name": "PyCharm (reports)",
   "language": "python",
   "name": "pycharm-5f782786"
  },
  "language_info": {
   "codemirror_mode": {
    "name": "ipython",
    "version": 3
   },
   "file_extension": ".py",
   "mimetype": "text/x-python",
   "name": "python",
   "nbconvert_exporter": "python",
   "pygments_lexer": "ipython3",
   "version": "3.6.8"
  }
 },
 "nbformat": 4,
 "nbformat_minor": 2
}